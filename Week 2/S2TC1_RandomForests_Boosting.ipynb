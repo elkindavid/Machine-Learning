{
 "cells": [
  {
   "cell_type": "markdown",
   "metadata": {},
   "source": [
    "![image info](https://raw.githubusercontent.com/albahnsen/MIAD_ML_and_NLP/main/images/banner_1.png)"
   ]
  },
  {
   "cell_type": "markdown",
   "metadata": {},
   "source": [
    "# Taller: Construcción e implementación de modelos Bagging, Random Forest y XGBoost\n",
    "\n",
    "En este taller podrán poner en práctica sus conocimientos sobre la construcción e implementación de modelos de Bagging, Random Forest y XGBoost. El taller está constituido por 8 puntos, en los cuales deberan seguir las intrucciones de cada numeral para su desarrollo."
   ]
  },
  {
   "cell_type": "markdown",
   "metadata": {},
   "source": [
    "## Datos predicción precio de automóviles\n",
    "\n",
    "En este taller se usará el conjunto de datos de Car Listings de Kaggle donde cada observación representa el precio de un automóvil teniendo en cuenta distintas variables como año, marca, modelo, entre otras. El objetivo es predecir el precio del automóvil. Para más detalles puede visitar el siguiente enlace: [datos](https://www.kaggle.com/jpayne/852k-used-car-listings)."
   ]
  },
  {
   "cell_type": "code",
   "execution_count": 5,
   "metadata": {},
   "outputs": [],
   "source": [
    "import warnings\n",
    "warnings.filterwarnings('ignore')\n",
    "\n",
    "# Importación de librerías\n",
    "%matplotlib inline\n",
    "import pandas as pd\n",
    "import numpy as np\n",
    "import matplotlib.pyplot as plt\n",
    "from sklearn.metrics import mean_squared_error\n",
    "from sklearn.metrics import r2_score\n",
    "from functools import reduce as reduce\n",
    "from sklearn.ensemble import RandomForestRegressor\n",
    "from sklearn.model_selection import  cross_val_score\n",
    "from importlib import reload\n",
    "plt=reload(plt)"
   ]
  },
  {
   "cell_type": "code",
   "execution_count": 6,
   "metadata": {},
   "outputs": [
    {
     "data": {
      "text/html": [
       "<div>\n",
       "<style scoped>\n",
       "    .dataframe tbody tr th:only-of-type {\n",
       "        vertical-align: middle;\n",
       "    }\n",
       "\n",
       "    .dataframe tbody tr th {\n",
       "        vertical-align: top;\n",
       "    }\n",
       "\n",
       "    .dataframe thead th {\n",
       "        text-align: right;\n",
       "    }\n",
       "</style>\n",
       "<table border=\"1\" class=\"dataframe\">\n",
       "  <thead>\n",
       "    <tr style=\"text-align: right;\">\n",
       "      <th></th>\n",
       "      <th>Price</th>\n",
       "      <th>Year</th>\n",
       "      <th>Mileage</th>\n",
       "      <th>M_Camry</th>\n",
       "      <th>M_Camry4dr</th>\n",
       "      <th>M_CamryBase</th>\n",
       "      <th>M_CamryL</th>\n",
       "      <th>M_CamryLE</th>\n",
       "      <th>M_CamrySE</th>\n",
       "      <th>M_CamryXLE</th>\n",
       "    </tr>\n",
       "  </thead>\n",
       "  <tbody>\n",
       "    <tr>\n",
       "      <th>7</th>\n",
       "      <td>21995</td>\n",
       "      <td>2014</td>\n",
       "      <td>6480</td>\n",
       "      <td>0</td>\n",
       "      <td>0</td>\n",
       "      <td>0</td>\n",
       "      <td>1</td>\n",
       "      <td>0</td>\n",
       "      <td>0</td>\n",
       "      <td>0</td>\n",
       "    </tr>\n",
       "    <tr>\n",
       "      <th>11</th>\n",
       "      <td>13995</td>\n",
       "      <td>2014</td>\n",
       "      <td>39972</td>\n",
       "      <td>0</td>\n",
       "      <td>0</td>\n",
       "      <td>0</td>\n",
       "      <td>0</td>\n",
       "      <td>1</td>\n",
       "      <td>0</td>\n",
       "      <td>0</td>\n",
       "    </tr>\n",
       "    <tr>\n",
       "      <th>167</th>\n",
       "      <td>17941</td>\n",
       "      <td>2016</td>\n",
       "      <td>18989</td>\n",
       "      <td>0</td>\n",
       "      <td>0</td>\n",
       "      <td>0</td>\n",
       "      <td>0</td>\n",
       "      <td>0</td>\n",
       "      <td>1</td>\n",
       "      <td>0</td>\n",
       "    </tr>\n",
       "    <tr>\n",
       "      <th>225</th>\n",
       "      <td>12493</td>\n",
       "      <td>2014</td>\n",
       "      <td>51330</td>\n",
       "      <td>0</td>\n",
       "      <td>0</td>\n",
       "      <td>0</td>\n",
       "      <td>1</td>\n",
       "      <td>0</td>\n",
       "      <td>0</td>\n",
       "      <td>0</td>\n",
       "    </tr>\n",
       "    <tr>\n",
       "      <th>270</th>\n",
       "      <td>7994</td>\n",
       "      <td>2007</td>\n",
       "      <td>116065</td>\n",
       "      <td>0</td>\n",
       "      <td>1</td>\n",
       "      <td>0</td>\n",
       "      <td>0</td>\n",
       "      <td>0</td>\n",
       "      <td>0</td>\n",
       "      <td>0</td>\n",
       "    </tr>\n",
       "  </tbody>\n",
       "</table>\n",
       "</div>"
      ],
      "text/plain": [
       "     Price  Year  Mileage  M_Camry  M_Camry4dr  M_CamryBase  M_CamryL  \\\n",
       "7    21995  2014     6480        0           0            0         1   \n",
       "11   13995  2014    39972        0           0            0         0   \n",
       "167  17941  2016    18989        0           0            0         0   \n",
       "225  12493  2014    51330        0           0            0         1   \n",
       "270   7994  2007   116065        0           1            0         0   \n",
       "\n",
       "     M_CamryLE  M_CamrySE  M_CamryXLE  \n",
       "7            0          0           0  \n",
       "11           1          0           0  \n",
       "167          0          1           0  \n",
       "225          0          0           0  \n",
       "270          0          0           0  "
      ]
     },
     "execution_count": 6,
     "metadata": {},
     "output_type": "execute_result"
    }
   ],
   "source": [
    "# Lectura de la información de archivo .csv\n",
    "data = pd.read_csv('https://raw.githubusercontent.com/albahnsen/MIAD_ML_and_NLP/main/datasets/dataTrain_carListings.zip')\n",
    "\n",
    "# Preprocesamiento de datos para el taller\n",
    "data = data.loc[data['Model'].str.contains('Camry')].drop(['Make', 'State'], axis=1)\n",
    "data = data.join(pd.get_dummies(data['Model'], prefix='M'))\n",
    "data = data.drop(['Model'], axis=1)\n",
    "\n",
    "# Visualización dataset\n",
    "data.head()"
   ]
  },
  {
   "cell_type": "code",
   "execution_count": 7,
   "metadata": {},
   "outputs": [
    {
     "data": {
      "image/png": "[encoded data removed]",
      "text/plain": [
       "<Figure size 640x480 with 1 Axes>"
      ]
     },
     "metadata": {},
     "output_type": "display_data"
    }
   ],
   "source": [
    "plt.scatter(data.Mileage,data.Price, s=3, color=\"y\")\n",
    "plt.xlabel('Kilometraje')\n",
    "plt.ylabel('Precio')\n",
    "plt.show()"
   ]
  },
  {
   "cell_type": "code",
   "execution_count": 69,
   "metadata": {},
   "outputs": [
    {
     "data": {
      "text/plain": [
       "{'whiskers': [<matplotlib.lines.Line2D at 0x2491e643b80>,\n",
       "  <matplotlib.lines.Line2D at 0x2491e643e50>],\n",
       " 'caps': [<matplotlib.lines.Line2D at 0x2491e650160>,\n",
       "  <matplotlib.lines.Line2D at 0x2491e650430>],\n",
       " 'boxes': [<matplotlib.lines.Line2D at 0x2491e6439d0>],\n",
       " 'medians': [<matplotlib.lines.Line2D at 0x2491e650700>],\n",
       " 'fliers': [<matplotlib.lines.Line2D at 0x2491e6509d0>],\n",
       " 'means': []}"
      ]
     },
     "execution_count": 69,
     "metadata": {},
     "output_type": "execute_result"
    },
    {
     "data": {
      "image/png": "[encoded data removed]",
      "text/plain": [
       "<Figure size 640x480 with 1 Axes>"
      ]
     },
     "metadata": {},
     "output_type": "display_data"
    }
   ],
   "source": [
    "plt.boxplot(data.Price)"
   ]
  },
  {
   "cell_type": "markdown",
   "metadata": {},
   "source": [
    "En el gráfico se logra ver una relación lineal decreciente entre el kilometraje y el precio, a mayor kilometraje menor precio."
   ]
  },
  {
   "cell_type": "code",
   "execution_count": 8,
   "metadata": {},
   "outputs": [],
   "source": [
    "# Separación de variables predictoras (X) y variable de interés (y)\n",
    "X = data.drop(['Price'], axis=1)\n",
    "y = data['Price']"
   ]
  },
  {
   "cell_type": "code",
   "execution_count": 9,
   "metadata": {},
   "outputs": [],
   "source": [
    "# Separación de datos en set de entrenamiento y test\n",
    "from sklearn.model_selection import train_test_split\n",
    "X_train, X_test, y_train, y_test = train_test_split(X, y, test_size=0.33, random_state=42)"
   ]
  },
  {
   "cell_type": "markdown",
   "metadata": {},
   "source": [
    "### Punto 1 - Árbol de decisión manual\n",
    "\n",
    "En la celda 1 creen un árbol de decisión **manualmente**  que considere los set de entrenamiento y test definidos anteriormente y presenten el RMSE y MAE del modelo en el set de test."
   ]
  },
  {
   "cell_type": "code",
   "execution_count": 48,
   "metadata": {},
   "outputs": [],
   "source": [
    "class Nodo():\n",
    "    def __init__(self, indice_var=None, limite=None, izq=None, der=None, var_red=None, valor=None):\n",
    "        \n",
    "        # Para los nodos de decision\n",
    "        self.indice_var = indice_var\n",
    "        self.limite = limite\n",
    "        self.izq = izq\n",
    "        self.der = der\n",
    "        self.var_red = var_red\n",
    "        \n",
    "        # Para el nodo hoja\n",
    "        self.valor = valor\n",
    "\n",
    "class ArbolDecisionReg():\n",
    "    def __init__(self, min_samples_split=2, max_depth=2):\n",
    "        \n",
    "        # Inicializar la raiz del arbol\n",
    "        self.raiz = None\n",
    "        \n",
    "        # Condiciones de parada\n",
    "        self.min_samples_split = min_samples_split\n",
    "        self.max_depth = max_depth\n",
    "        \n",
    "    def construir_arbol(self, dataset, curr_depth=0):\n",
    "        \n",
    "        X, Y = dataset[:,:-1], dataset[:,-1]\n",
    "        num_samples, num_features = np.shape(X)\n",
    "        best_split = {}\n",
    "        # Particionar hasta que se cumplan las condiciones de parada\n",
    "        if num_samples>=self.min_samples_split and curr_depth<=self.max_depth:\n",
    "            # Encontrar la mejor particion\n",
    "            best_split = self.obtener_mejor_particion(dataset, num_samples, num_features)\n",
    "            # Comprobar si la ganancia de información es positiva\n",
    "            if best_split[\"var_red\"]>0:\n",
    "                izq_subtree = self.construir_arbol(best_split[\"dataset_izq\"], curr_depth+1)\n",
    "                der_subtree = self.construir_arbol(best_split[\"dataset_der\"], curr_depth+1)\n",
    "                # Retorna el nodo de decision\n",
    "                return Nodo(best_split[\"indice_var\"], best_split[\"limite\"], \n",
    "                            izq_subtree, der_subtree, best_split[\"var_red\"])\n",
    "        \n",
    "        # Calcular el nodo hoja\n",
    "        leaf_valor = self.calcular_valor_hoja(Y)\n",
    "        # Nodo hoja de retorno\n",
    "        return Nodo(valor=leaf_valor)\n",
    "    \n",
    "    def obtener_mejor_particion(self, dataset, num_samples, num_features):\n",
    "        \n",
    "        # Diccionario para almacenar la mejor division\n",
    "        best_split = {}\n",
    "        max_var_red = -float(\"inf\")\n",
    "        # Recorrer todas las variables\n",
    "        for indice_var in range(num_features):\n",
    "            feature_valors = dataset[:, indice_var]\n",
    "            possible_limites = np.unique(feature_valors)\n",
    "            # recorrer todos los valores de características presentes en los datos\n",
    "            for limite in possible_limites:\n",
    "                # obtener división actual\n",
    "                dataset_izq, dataset_der = self.split(dataset, indice_var, limite)\n",
    "                # comprobar que no hayan nulos en los nodos hijos\n",
    "                if len(dataset_izq)>0 and len(dataset_der)>0:\n",
    "                    y, izq_y, der_y = dataset[:, -1], dataset_izq[:, -1], dataset_der[:, -1]\n",
    "                    # Calcular la ganancia de información\n",
    "                    curr_var_red = self.reduccion_varianza(y, izq_y, der_y)\n",
    "                    # actualice la mejor división si es necesario\n",
    "                    if curr_var_red>max_var_red:\n",
    "                        best_split[\"indice_var\"] = indice_var\n",
    "                        best_split[\"limite\"] = limite\n",
    "                        best_split[\"dataset_izq\"] = dataset_izq\n",
    "                        best_split[\"dataset_der\"] = dataset_der\n",
    "                        best_split[\"var_red\"] = curr_var_red\n",
    "                        max_var_red = curr_var_red\n",
    "                        \n",
    "        # retorna la mejor partición\n",
    "        return best_split\n",
    "    \n",
    "    def split(self, dataset, indice_var, limite):\n",
    "        \n",
    "        dataset_izq = np.array([row for row in dataset if row[indice_var]<=limite])\n",
    "        dataset_der = np.array([row for row in dataset if row[indice_var]>limite])\n",
    "        return dataset_izq, dataset_der\n",
    "    \n",
    "    def reduccion_varianza(self, parent, l_child, r_child):\n",
    "        \n",
    "        weight_l = len(l_child) / len(parent)\n",
    "        weight_r = len(r_child) / len(parent)\n",
    "        reduction = np.var(parent) - (weight_l * np.var(l_child) + weight_r * np.var(r_child))\n",
    "        return reduction\n",
    "    \n",
    "    def calcular_valor_hoja(self, Y):\n",
    "        \n",
    "        val = np.mean(Y)\n",
    "        return val\n",
    "                \n",
    "    def imprimir_arbol(self, tree=None, indent=\" \"):\n",
    "        \n",
    "        if not tree:\n",
    "            tree = self.raiz\n",
    "\n",
    "        if tree.valor is not None:\n",
    "            print(tree.valor)\n",
    "\n",
    "        else:\n",
    "            print(\"X_\"+str(tree.indice_var), \"<=\", tree.limite, \"?\", tree.var_red)\n",
    "            print(\"%sizq:\" % (indent), end=\"\")\n",
    "            self.imprimir_arbol(tree.izq, indent + indent)\n",
    "            print(\"%sder:\" % (indent), end=\"\")\n",
    "            self.imprimir_arbol(tree.der, indent + indent)\n",
    "    \n",
    "    def entrenar(self, X, Y):\n",
    "        \n",
    "        dataset = np.concatenate((X, Y), axis=1)\n",
    "        self.raiz = self.construir_arbol(dataset)\n",
    "        \n",
    "    def hacer_prediccion(self, x, tree):\n",
    "        \n",
    "        if tree.valor!=None: return tree.valor\n",
    "        feature_val = x[tree.indice_var]\n",
    "        if feature_val<=tree.limite:\n",
    "            return self.hacer_prediccion(x, tree.izq)\n",
    "        else:\n",
    "            return self.hacer_prediccion(x, tree.der)\n",
    "    \n",
    "    def predecir(self, X):\n",
    "        \n",
    "        preditions = [self.hacer_prediccion(x, self.raiz) for x in X]\n",
    "        return preditions"
   ]
  },
  {
   "cell_type": "code",
   "execution_count": 49,
   "metadata": {},
   "outputs": [
    {
     "name": "stdout",
     "output_type": "stream",
     "text": [
      "X_0 <= 2012 ? 8790046.173046965\n",
      " izq:X_0 <= 2011 ? 2959465.8517095316\n",
      "  izq:X_1 <= 99121 ? 1170116.721087044\n",
      "    izq:X_0 <= 2007 ? 893698.6400833833\n",
      "        izq:X_1 <= 49149 ? 329938.2927407725\n",
      "                izq:9976.375\n",
      "                der:8193.566666666668\n",
      "        der:X_1 <= 64249 ? 512626.0269236788\n",
      "                izq:11691.425196850394\n",
      "                der:10056.381868131868\n",
      "    der:X_0 <= 2009 ? 552919.3704753756\n",
      "        izq:X_1 <= 140695 ? 208501.18736617523\n",
      "                izq:7536.089947089947\n",
      "                der:6544.451807228916\n",
      "        der:X_1 <= 123916 ? 671581.2715428071\n",
      "                izq:9490.535714285714\n",
      "                der:7780.9358974358975\n",
      "  der:X_1 <= 82133 ? 1363726.4906349215\n",
      "    izq:X_1 <= 47312 ? 504080.0386649659\n",
      "        izq:X_2 <= 0 ? 363424.6206432851\n",
      "                izq:14421.585365853658\n",
      "                der:16228.083333333334\n",
      "        der:X_2 <= 0 ? 162844.72614528518\n",
      "                izq:12939.13679245283\n",
      "                der:14252.84\n",
      "    der:X_1 <= 112714 ? 363719.12316599186\n",
      "        izq:X_1 <= 94336 ? 135677.54168921313\n",
      "                izq:11762.48051948052\n",
      "                der:11022.640625\n",
      "        der:X_1 <= 148341 ? 549787.3351698807\n",
      "                izq:10359.694444444445\n",
      "                der:8437.25\n",
      " der:X_0 <= 2016 ? 1620597.6461158656\n",
      "  izq:X_1 <= 49121 ? 910016.9812996429\n",
      "    izq:X_1 <= 25773 ? 381099.80697076535\n",
      "        izq:X_0 <= 2014 ? 524736.5127066541\n",
      "                izq:16175.964516129032\n",
      "                der:17736.21153846154\n",
      "        der:X_0 <= 2014 ? 187366.94105256256\n",
      "                izq:15344.577319587628\n",
      "                der:16236.708187543736\n",
      "    der:X_1 <= 70061 ? 776981.4839276252\n",
      "        izq:X_0 <= 2014 ? 337610.32625200413\n",
      "                izq:14119.728291316527\n",
      "                der:15293.468401486989\n",
      "        der:X_1 <= 93769 ? 569868.6783730113\n",
      "                izq:13147.388429752065\n",
      "                der:11315.492537313432\n",
      "  der:X_8 <= 0 ? 1093632.8568244968\n",
      "    izq:X_0 <= 2017 ? 800646.9773042481\n",
      "        izq:X_1 <= 17589 ? 350158.55063626077\n",
      "                izq:19303.05775075988\n",
      "                der:18117.141711229946\n",
      "        der:X_1 <= 994 ? 1626023.1615646267\n",
      "                izq:25805.0\n",
      "                der:22697.333333333332\n",
      "    der:X_1 <= 405 ? 995412.853711037\n",
      "        izq:27977.666666666668\n",
      "        der:X_1 <= 10247 ? 563346.4165242594\n",
      "                izq:22667.1\n",
      "                der:21091.213333333333\n"
     ]
    }
   ],
   "source": [
    "arbol = ArbolDecisionReg(min_samples_split=4, max_depth=4)\n",
    "arbol.entrenar(X_train.values,y_train.values.reshape(-1,1))\n",
    "arbol.imprimir_arbol()"
   ]
  },
  {
   "cell_type": "code",
   "execution_count": 46,
   "metadata": {},
   "outputs": [
    {
     "name": "stdout",
     "output_type": "stream",
     "text": [
      "RMSE:  1719.4119949906406\n",
      "MAE:  1291.16524580749\n",
      "R2:  0.806724017309669\n"
     ]
    }
   ],
   "source": [
    "y_pred = arbol.predecir(X_test.values) \n",
    "\n",
    "# Métricas\n",
    "rmse = np.sqrt(np.square(y_test - y_pred).mean())\n",
    "mae = np.mean(np.abs(y_test - y_pred))\n",
    "r2 = r2_score(y_test, y_pred)\n",
    "\n",
    "print(\"RMSE: \", rmse) \n",
    "print(\"MAE: \", mae)\n",
    "print('R2: ',r2)"
   ]
  },
  {
   "cell_type": "code",
   "execution_count": 75,
   "metadata": {},
   "outputs": [
    {
     "data": {
      "text/plain": [
       "8.843618033056732"
      ]
     },
     "execution_count": 75,
     "metadata": {},
     "output_type": "execute_result"
    }
   ],
   "source": [
    "mae / y_test.mean() * 100"
   ]
  },
  {
   "cell_type": "markdown",
   "metadata": {},
   "source": [
    "Después de construir el módelo Arbol de Decisión, se presentan las métricas **Raiz del Error Cuadrático Medio** de **1719.41** y **Coeficiente R2** de **0.806** los cuales muestran que el modelo tuvo un buen desempeño y se adaptó muy bien a los datos. \n",
    "\n",
    "El error medio absoluto fue de **1291** el cual correponde al **8.84%** de los precios medios en la muestra de test, lo cual refleja que el modelo tiene un alto poder predictivo"
   ]
  },
  {
   "cell_type": "markdown",
   "metadata": {},
   "source": [
    "### Punto 2 - Bagging manual\n",
    "\n",
    "En la celda 2 creen un modelo bagging **manualmente** con 10 árboles de regresión y comenten sobre el desempeño del modelo."
   ]
  },
  {
   "cell_type": "code",
   "execution_count": 9,
   "metadata": {},
   "outputs": [
    {
     "name": "stdout",
     "output_type": "stream",
     "text": [
      "Arreglo: [ 1  2  3  4  5  6  7  8  9 10 11 12 13 14 15 16 17 18 19 20]\n",
      "Muestreo aleatorio:  [ 6 12 13  9 10 12  6 16  1 17  2 13  8 14  7 19  6 19 12 11]\n"
     ]
    },
    {
     "ename": "NameError",
     "evalue": "name 'test' is not defined",
     "output_type": "error",
     "traceback": [
      "\u001b[1;31m---------------------------------------------------------------------------\u001b[0m",
      "\u001b[1;31mNameError\u001b[0m                                 Traceback (most recent call last)",
      "Input \u001b[1;32mIn [9]\u001b[0m, in \u001b[0;36m<cell line: 33>\u001b[1;34m()\u001b[0m\n\u001b[0;32m     30\u001b[0m treereg \u001b[38;5;241m=\u001b[39m DecisionTreeRegressor(max_depth\u001b[38;5;241m=\u001b[39m\u001b[38;5;28;01mNone\u001b[39;00m, random_state\u001b[38;5;241m=\u001b[39m\u001b[38;5;241m123\u001b[39m)\n\u001b[0;32m     32\u001b[0m \u001b[38;5;66;03m# DataFrame para guardar las predicciones de cada árbol\u001b[39;00m\n\u001b[1;32m---> 33\u001b[0m y_pred \u001b[38;5;241m=\u001b[39m pd\u001b[38;5;241m.\u001b[39mDataFrame(index\u001b[38;5;241m=\u001b[39m\u001b[43mtest\u001b[49m\u001b[38;5;241m.\u001b[39mindex, columns\u001b[38;5;241m=\u001b[39m[\u001b[38;5;28mlist\u001b[39m(\u001b[38;5;28mrange\u001b[39m(n_B))])\n\u001b[0;32m     35\u001b[0m \u001b[38;5;66;03m# Entrenamiento de un árbol sobre cada muestra boostrap y predicción sobre los datos de test\u001b[39;00m\n\u001b[0;32m     36\u001b[0m \u001b[38;5;28;01mfor\u001b[39;00m i, sample \u001b[38;5;129;01min\u001b[39;00m \u001b[38;5;28menumerate\u001b[39m(samples):\n",
      "\u001b[1;31mNameError\u001b[0m: name 'test' is not defined"
     ]
    }
   ],
   "source": [
    "# Celda 2\n",
    "#juan A\n",
    "\n",
    "# Se crea un arreglo de 1 a 20\n",
    "np.random.seed(1)\n",
    "\n",
    "# Impresión de arreglo y muestreo aleatorio\n",
    "nums = np.arange(1, 21)\n",
    "print('Arreglo:', nums)\n",
    "print('Muestreo aleatorio: ', np.random.choice(a=nums, size=20, replace=True))\n",
    "\n",
    "# Creación de 10 muestras de bootstrap \n",
    "np.random.seed(123)\n",
    "\n",
    "n_samples = X_train.shape[0]\n",
    "n_B = 10\n",
    "\n",
    "samples = [np.random.choice(a=n_samples, size=n_samples, replace=True) for _ in range(1, n_B +1 )]\n",
    "samples\n",
    "\n",
    "# Visualización muestra boostrap #1 para entremiento\n",
    "X_train.iloc[samples[0], :]\n",
    "\n",
    "\n",
    "# Construcción un árbol de decisión para cada muestra boostrap\n",
    "\n",
    "from sklearn.tree import DecisionTreeRegressor\n",
    "\n",
    "# Definición del modelo usando DecisionTreeRegressor de sklearn\n",
    "treereg = DecisionTreeRegressor(max_depth=None, random_state=123)\n",
    "\n",
    "# DataFrame para guardar las predicciones de cada árbol\n",
    "y_pred = pd.DataFrame(index=test.index, columns=[list(range(n_B))])\n",
    "\n",
    "# Entrenamiento de un árbol sobre cada muestra boostrap y predicción sobre los datos de test\n",
    "for i, sample in enumerate(samples):\n",
    "    X_train = train.iloc[sample, 1:]\n",
    "    y_train = train.iloc[sample, 0]\n",
    "    treereg.fit(X_train, y_train)\n",
    "    y_pred.iloc[:,i] = treereg.predict(X_test)\n",
    "    \n",
    "y_pred\n",
    "\n",
    "# Desempeño de cada árbol\n",
    "for i in range(n_B):\n",
    "    print('Árbol ', i, 'tiene un error: ', np.sqrt(mean_squared_error(y_pred.iloc[:,i], y_test)))\n",
    "    \n",
    "# Predicciones promedio para cada obserbación del set de test\n",
    "y_pred.mean(axis=1)\n",
    "\n",
    "# Error al promediar las predicciones de todos los árboles\n",
    "np.sqrt(mean_squared_error(y_test, y_pred.mean(axis=1)))\n",
    "\n"
   ]
  },
  {
   "cell_type": "markdown",
   "metadata": {},
   "source": [
    "### Punto 3 - Bagging con librería\n",
    "\n",
    "En la celda 3, con la librería sklearn, entrenen un modelo bagging con 10 árboles de regresión y el parámetro `max_features` igual a `log(n_features)` y comenten sobre el desempeño del modelo."
   ]
  },
  {
   "cell_type": "code",
   "execution_count": null,
   "metadata": {},
   "outputs": [],
   "source": [
    "# Celda 3\n",
    "#Juan A\n"
   ]
  },
  {
   "cell_type": "markdown",
   "metadata": {},
   "source": [
    "### Punto 4 - Random forest con librería\n",
    "\n",
    "En la celda 4, usando la librería sklearn entrenen un modelo de Randon Forest para regresión  y comenten sobre el desempeño del modelo."
   ]
  },
  {
   "cell_type": "code",
   "execution_count": 10,
   "metadata": {},
   "outputs": [
    {
     "name": "stdout",
     "output_type": "stream",
     "text": [
      "MSE:  3088732.730251259\n",
      "R2:  0.7980711760273338\n"
     ]
    },
    {
     "data": {
      "text/plain": [
       "count    10.000000\n",
       "mean      0.800494\n",
       "std       0.011208\n",
       "min       0.779349\n",
       "25%       0.795882\n",
       "50%       0.803033\n",
       "75%       0.805062\n",
       "max       0.816403\n",
       "dtype: float64"
      ]
     },
     "execution_count": 10,
     "metadata": {},
     "output_type": "execute_result"
    }
   ],
   "source": [
    "# Celda 4\n",
    "# Implementación modelo Random Forest para Regresión\n",
    "rf_model = RandomForestRegressor()\n",
    "rf_model.fit(X_train, y_train)\n",
    "y_pred = rf_model.predict(X_test)\n",
    "mse = mean_squared_error(y_test, y_pred)\n",
    "r2 = r2_score(y_test, y_pred)\n",
    "print('MSE: ', mse)\n",
    "print('R2: ', r2)\n",
    "\n",
    "pd.Series(cross_val_score(rf_model, X, y, cv=10,scoring='r2')).describe()"
   ]
  },
  {
   "cell_type": "markdown",
   "metadata": {},
   "source": [
    "Aplicando el modelo de Random Forest para predecir el precio de un automóvil se tiene un MSE de 3.078.505 y un R2 de 0.79, esto sin realizar calibración de parámetros. Adicionalmente se realiza con un modulo de \"ensemble\" utilizando validación cruzada y después de aplicar con k-fold cross validation un k de 10 se obtiene la distribución del r2 identificando así que el promedio del r2 está en 0.80 con un mínimo del 0.78 y un máximo de 0.81 siendo un resultado no tan disperso."
   ]
  },
  {
   "cell_type": "markdown",
   "metadata": {},
   "source": [
    "### Punto 5 - Calibración de parámetros Random forest\n",
    "\n",
    "En la celda 5, calibren los parámetros max_depth, max_features y n_estimators del modelo de Randon Forest para regresión, comenten sobre el desempeño del modelo y describan cómo cada parámetro afecta el desempeño del modelo."
   ]
  },
  {
   "cell_type": "code",
   "execution_count": 11,
   "metadata": {},
   "outputs": [
    {
     "name": "stdout",
     "output_type": "stream",
     "text": [
      "**************************Calibración de n_estimators************************\n"
     ]
    },
    {
     "data": {
      "image/png": "[encoded data removed]",
      "text/plain": [
       "<Figure size 432x288 with 1 Axes>"
      ]
     },
     "metadata": {
      "needs_background": "light"
     },
     "output_type": "display_data"
    },
    {
     "name": "stdout",
     "output_type": "stream",
     "text": [
      "**************************Calibración de max_features************************\n"
     ]
    },
    {
     "data": {
      "image/png": "[encoded data removed]",
      "text/plain": [
       "<Figure size 432x288 with 1 Axes>"
      ]
     },
     "metadata": {
      "needs_background": "light"
     },
     "output_type": "display_data"
    },
    {
     "name": "stdout",
     "output_type": "stream",
     "text": [
      "**************************Calibración de max_depth************************\n"
     ]
    },
    {
     "data": {
      "image/png": "[encoded data removed]",
      "text/plain": [
       "<Figure size 432x288 with 1 Axes>"
      ]
     },
     "metadata": {
      "needs_background": "light"
     },
     "output_type": "display_data"
    }
   ],
   "source": [
    "# Celda 5\n",
    "\n",
    "print('**************************Calibración de n_estimators************************')\n",
    "estimator_range = range(10, 310, 10)\n",
    "R2_scores = []\n",
    "for estimator in estimator_range:\n",
    "    rf_model = RandomForestRegressor(n_estimators=estimator, random_state=1, n_jobs=-1)\n",
    "    R2_scores.append(cross_val_score(rf_model, X, y, cv=5, scoring='r2').mean())\n",
    "\n",
    "plt.plot(estimator_range, R2_scores)\n",
    "plt.xlabel('n_estimators')\n",
    "plt.ylabel('R2 Score')\n",
    "plt.show()\n",
    "\n",
    "print('**************************Calibración de max_features************************')\n",
    "feature_range = range(1, len(X.columns)+1)\n",
    "R2_scores = []\n",
    "for feature in feature_range:\n",
    "    rf_model = RandomForestRegressor(n_estimators=150, max_features=feature, random_state=1, n_jobs=-1)\n",
    "    R2_scores.append(cross_val_score(rf_model, X, y, cv=5, scoring='r2').mean())\n",
    "    \n",
    "plt.plot(feature_range, R2_scores)\n",
    "plt.xlabel('max_features')\n",
    "plt.ylabel('R2 Score')\n",
    "plt.show()\n",
    "\n",
    "print('**************************Calibración de max_depth************************')\n",
    "depth_range = range(1, 21)\n",
    "R2_scores = []\n",
    "\n",
    "for depth in depth_range:\n",
    "    rf_model = RandomForestRegressor(n_estimators=150, max_depth=depth, random_state=1, n_jobs=-1)\n",
    "    R2_scores.append(cross_val_score(rf_model, X, y, cv=5, scoring='r2').mean())\n",
    "    \n",
    "plt.plot(depth_range, R2_scores)\n",
    "plt.xlabel('max_depth')\n",
    "plt.ylabel('R2 Score')\n",
    "plt.show()"
   ]
  },
  {
   "cell_type": "markdown",
   "metadata": {},
   "source": [
    "Se procede a validar los parámetros más optimos para aplicar al modelo, iniciando con el número de arboles (n_estimators) que van a ser usados se selecciona  un rango entre 10 y 310 para probar el cambio en los resultados del r2 a medida que va iterando sobre esta variable y por cada arbol se está haciendo una validación cruzada de 5, para este caso se evidencia que se alcanza el máximo r2 con aproximadamente 150 árboles valor superior al que trae el modleo por default.\n",
    "\n",
    "Posteriormente se busca identificar el número máximo de variables (max_features) con las cuáles nuestro modelo tendría un mejor desempeño, para lo cuál se itera sobre el número total de variables que tenemos en el dataset, sin embargo en este caso al tener pocas variables nos arroja que el r2 llega a su punto máximo cuando toma todas las variables entendiendo que los árboles serían iguales y ya no tendrían tanta aleatoriedad. Esto podría ser de mayor impacto si tuvieramos un mayor número de variables en nuestro dataset.\n",
    "\n",
    "Por último se realiza iteración sobre la profundidad de los árboles (max_depth) en donde se busca limitar la profundidad que puede alcanzar cada arbol de decisión individual en donde para este caso se evidencia que alcanza un máximo r2 con aproximadamente 7.5."
   ]
  },
  {
   "cell_type": "code",
   "execution_count": 12,
   "metadata": {},
   "outputs": [
    {
     "name": "stdout",
     "output_type": "stream",
     "text": [
      "***Métricas para Test:\n",
      "MSE:  2450054.540939626\n",
      "R2:  0.8398253668000003\n",
      "***Métricas para Train:\n",
      "MSE:  1862890.1096550364\n",
      "R2:  0.8792242912779289\n"
     ]
    }
   ],
   "source": [
    "#Implementación del modelo Random Forest para Regresión con los mejores parámetros\n",
    "\n",
    "rf_model = RandomForestRegressor(n_estimators=150, max_depth=8,max_features=9)\n",
    "rf_model.fit(X_train, y_train)\n",
    "y_pred = rf_model.predict(X_test)\n",
    "mse = mean_squared_error(y_test, y_pred)\n",
    "r2 = r2_score(y_test, y_pred)\n",
    "print('***Métricas para Test:')\n",
    "print('MSE: ', mse)\n",
    "print('R2: ', r2)\n",
    "print('***Métricas para Train:')\n",
    "rf_model = RandomForestRegressor(n_estimators=150, max_depth=8,max_features=9)\n",
    "rf_model.fit(X_train, y_train)\n",
    "y_pred_train = rf_model.predict(X_train)\n",
    "mse = mean_squared_error(y_train, y_pred_train)\n",
    "r2 = r2_score(y_train, y_pred_train)\n",
    "print('MSE: ', mse)\n",
    "print('R2: ', r2)"
   ]
  },
  {
   "cell_type": "markdown",
   "metadata": {},
   "source": [
    "En este paso se entrena el modelo  Random Forest utilizando los mejores parametros identificados en el paso anterior con lo cuál se evidencia un mejor desempeño del modelo con calibración de parámetros en donde se obtuvo un r2 0.83 frente al modelo aplicado en el punto 4 con el cuál se obtuvo un r2 0.79. Adicionalmente se validan las metricas de desempñeo sobre train con el fin de descartar que el modelo tenga overfitting encontrando un buen resultado también para este caso."
   ]
  },
  {
   "cell_type": "markdown",
   "metadata": {},
   "source": [
    "### Punto 6 - XGBoost con librería\n",
    "\n",
    "En la celda 6 implementen un modelo XGBoost de regresión con la librería sklearn y comenten sobre el desempeño del modelo."
   ]
  },
  {
   "cell_type": "code",
   "execution_count": 15,
   "metadata": {},
   "outputs": [
    {
     "name": "stdout",
     "output_type": "stream",
     "text": [
      "RMSE:  1621.4197004256812\n",
      "MAE:  1186.634392366123\n",
      "MAPE:  8.648872393314532\n",
      "Adjusted R2:  0.8281265175296673\n"
     ]
    }
   ],
   "source": [
    "# Celda 6\n",
    "import xgboost as xgb\n",
    "from sklearn.metrics import mean_squared_error, mean_absolute_error\n",
    "model = xgb.XGBRegressor()\n",
    "\n",
    "# Entrenar el modelo\n",
    "model.fit(X_train, y_train)\n",
    "\n",
    "# Hacer predicciones en datos de entrenamiento y prueba\n",
    "y_train_pred = model.predict(X_train)\n",
    "y_test_pred = model.predict(X_test)\n",
    "yPred = model.predict(X_test)\n",
    "\n",
    "# Calcular las métricas de evaluación\n",
    "mse = mean_squared_error(y_test, yPred)\n",
    "rmse = np.sqrt(mse)\n",
    "mae = mean_absolute_error(y_test, yPred)\n",
    "mape = np.mean(np.abs((y_test - yPred) / y_test)) * 100\n",
    "adj_r2 = r2_score(y_test, yPred)\n",
    "\n",
    "# Imprimir las métricas de evaluación\n",
    "print(\"RMSE: \", rmse)\n",
    "print(\"MAE: \", mae)\n",
    "print(\"MAPE: \", mape)\n",
    "print(\"Adjusted R2: \", adj_r2)\n",
    "\n"
   ]
  },
  {
   "cell_type": "markdown",
   "metadata": {},
   "source": [
    "### Punto 7 - Calibración de parámetros XGBoost\n",
    "\n",
    "En la celda 7 calibren los parámetros learning rate, gamma y colsample_bytree del modelo XGBoost para regresión, comenten sobre el desempeño del modelo y describan cómo cada parámetro afecta el desempeño del modelo."
   ]
  },
  {
   "cell_type": "code",
   "execution_count": 24,
   "metadata": {},
   "outputs": [
    {
     "name": "stdout",
     "output_type": "stream",
     "text": [
      "El mejor valor de learning rate es: 0.05\n"
     ]
    },
    {
     "data": {
      "image/png": "[encoded data removed]",
      "text/plain": [
       "<Figure size 864x720 with 4 Axes>"
      ]
     },
     "metadata": {
      "needs_background": "light"
     },
     "output_type": "display_data"
    }
   ],
   "source": [
    "# Celda 7\n",
    "import numpy as np\n",
    "import matplotlib.pyplot as plt\n",
    "from sklearn.metrics import mean_absolute_error, mean_squared_error, r2_score\n",
    "from xgboost import XGBRegressor\n",
    "\n",
    "# Definir los posibles valores de learning rate a calibrar\n",
    "print('*------Learning rate---------*')\n",
    "learning_rates = np.arange(0.01, 0.21, 0.01)\n",
    "\n",
    "# Crear listas para guardar los resultados de las métricas y el learning rate\n",
    "mae_results = []\n",
    "mape_results = []\n",
    "adj_r2_results = []\n",
    "rmse_results = []\n",
    "learning_rate_results = []\n",
    "\n",
    "# Iterar sobre los diferentes valores de learning rate\n",
    "for lr in learning_rates:\n",
    "    # Crear el modelo de XGBoost con el valor de learning rate actual\n",
    "    model = XGBRegressor(learning_rate=lr)\n",
    "    model.fit(X_train, y_train)\n",
    "    \n",
    "    # Hacer predicciones en datos de prueba\n",
    "    yPred = model.predict(X_test)\n",
    "    \n",
    "    # Calcular las métricas de evaluación\n",
    "    mse = mean_squared_error(y_test, yPred)\n",
    "    rmse = np.sqrt(mse)\n",
    "    mae = mean_absolute_error(y_test, yPred)\n",
    "    mape = np.mean(np.abs((y_test - yPred) / y_test)) * 100\n",
    "    adj_r2 = r2_score(y_test, yPred)\n",
    "    \n",
    "    # Guardar los resultados de las métricas y el valor de learning rate\n",
    "    mae_results.append(mae)\n",
    "    mape_results.append(mape)\n",
    "    adj_r2_results.append(adj_r2)\n",
    "    rmse_results.append(rmse)\n",
    "    learning_rate_results.append(lr)\n",
    "\n",
    "# Obtener el índice del mejor valor de learning rate basado en el MAE\n",
    "best_lr_idx = np.argmin(mae_results)\n",
    "best_lr = learning_rates[best_lr_idx]\n",
    "\n",
    "# Imprimir el mejor valor de learning rate\n",
    "print(f\"El mejor valor de learning rate es: {best_lr}\")\n",
    "\n",
    "# Generar los subplots\n",
    "fig, axes = plt.subplots(2, 2, figsize=(12, 10))\n",
    "fig.suptitle('Evaluación del modelo con diferentes Learning Rates')\n",
    "\n",
    "# Gráfico para el MAE\n",
    "axes[0, 0].plot(learning_rate_results, mae_results, marker='o')\n",
    "axes[0, 0].set_xlabel('Learning Rate')\n",
    "axes[0, 0].set_ylabel('MAE')\n",
    "axes[0, 0].grid(True)\n",
    "\n",
    "# Gráfico para el MAPE\n",
    "axes[0, 1].plot(learning_rate_results, mape_results, marker='o')\n",
    "axes[0, 1].set_xlabel('Learning Rate')\n",
    "axes[0, 1].set_ylabel('MAPE')\n",
    "axes[0, 1].grid(True)\n",
    "\n",
    "# Gráfico para el R2 ajustado\n",
    "axes[1, 0].plot(learning_rate_results, adj_r2_results, marker='o')\n",
    "axes[1, 0].set_xlabel('Learning Rate')\n",
    "axes[1, 0].set_ylabel('R2 Ajustado')\n",
    "axes[1, 0].grid(True)\n",
    "\n",
    "# Gráfico para el RMSE\n",
    "axes[1, 1].plot(learning_rate_results, rmse_results, marker='o')\n",
    "axes[1, 1].set_xlabel('Learning Rate')\n",
    "axes[1, 1].set_ylabel('RMSE')\n",
    "axes[1, 1].grid(True)\n",
    "\n",
    "plt.tight_layout()\n",
    "plt.show()\n"
   ]
  },
  {
   "cell_type": "markdown",
   "metadata": {},
   "source": [
    "### Punto 8 - Comparación y análisis de resultados\n",
    "En la celda 8 comparen los resultados obtenidos de los diferentes modelos (random forest y XGBoost) y comenten las ventajas del mejor modelo y las desventajas del modelo con el menor desempeño."
   ]
  },
  {
   "cell_type": "code",
   "execution_count": null,
   "metadata": {},
   "outputs": [],
   "source": [
    "# Celda 8\n"
   ]
  }
 ],
 "metadata": {
  "kernelspec": {
   "display_name": "Python 3 (ipykernel)",
   "language": "python",
   "name": "python3"
  },
  "language_info": {
   "codemirror_mode": {
    "name": "ipython",
    "version": 3
   },
   "file_extension": ".py",
   "mimetype": "text/x-python",
   "name": "python",
   "nbconvert_exporter": "python",
   "pygments_lexer": "ipython3",
   "version": "3.9.15"
  }
 },
 "nbformat": 4,
 "nbformat_minor": 4
}
