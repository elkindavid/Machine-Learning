{
 "cells": [
  {
   "cell_type": "code",
   "execution_count": 4,
   "id": "84484fcb",
   "metadata": {},
   "outputs": [],
   "source": [
    "def nombre(n):\n",
    "    print('Mi nombre es: ',n)"
   ]
  },
  {
   "cell_type": "code",
   "execution_count": 5,
   "id": "11f01763",
   "metadata": {},
   "outputs": [
    {
     "name": "stdout",
     "output_type": "stream",
     "text": [
      "Mi nombre es:  David\n"
     ]
    }
   ],
   "source": [
    "nombre('David')"
   ]
  },
  {
   "cell_type": "code",
   "execution_count": 6,
   "id": "57bde1a6",
   "metadata": {},
   "outputs": [
    {
     "name": "stdout",
     "output_type": "stream",
     "text": [
      "Mi nombre es:  Otro nombre\n"
     ]
    }
   ],
   "source": [
    "nombre('Otro nombre')"
   ]
  },
  {
   "cell_type": "code",
   "execution_count": null,
   "id": "f42dc902",
   "metadata": {},
   "outputs": [],
   "source": []
  }
 ],
 "metadata": {
  "kernelspec": {
   "display_name": "Python 3 (ipykernel)",
   "language": "python",
   "name": "python3"
  },
  "language_info": {
   "codemirror_mode": {
    "name": "ipython",
    "version": 3
   },
   "file_extension": ".py",
   "mimetype": "text/x-python",
   "name": "python",
   "nbconvert_exporter": "python",
   "pygments_lexer": "ipython3",
   "version": "3.9.13"
  }
 },
 "nbformat": 4,
 "nbformat_minor": 5
}
