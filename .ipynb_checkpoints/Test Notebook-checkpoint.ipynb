{
 "cells": [
  {
   "cell_type": "code",
   "execution_count": 1,
   "id": "84484fcb",
   "metadata": {},
   "outputs": [],
   "source": [
    "def nombre(n):\n",
    "    print('Mi nombre es: ',n)"
   ]
  },
  {
   "cell_type": "code",
   "execution_count": 2,
   "id": "11f01763",
   "metadata": {},
   "outputs": [
    {
     "name": "stdout",
     "output_type": "stream",
     "text": [
      "Mi nombre es:  David\n"
     ]
    }
   ],
   "source": [
    "nombre('David')"
   ]
  }
 ],
 "metadata": {
  "kernelspec": {
   "display_name": "Python 3 (ipykernel)",
   "language": "python",
   "name": "python3"
  },
  "language_info": {
   "codemirror_mode": {
    "name": "ipython",
    "version": 3
   },
   "file_extension": ".py",
   "mimetype": "text/x-python",
   "name": "python",
   "nbconvert_exporter": "python",
   "pygments_lexer": "ipython3",
   "version": "3.9.15"
  }
 },
 "nbformat": 4,
 "nbformat_minor": 5
}
